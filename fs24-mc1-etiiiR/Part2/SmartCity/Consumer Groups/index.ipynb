{
 "cells": [
  {
   "cell_type": "code",
   "execution_count": 5,
   "metadata": {},
   "outputs": [],
   "source": [
    "import yaml\n",
    "import os\n",
    "import subprocess\n",
    "\n",
    "num_buses = 100\n",
    "services = {\n",
    "    \"kafka1\": {\n",
    "        \"image\": \"confluentinc/cp-kafka\",\n",
    "        \"container_name\": \"kafka1\",\n",
    "        \"hostname\": \"kafka1\",\n",
    "        \"ports\": [\"19092:19092\"],\n",
    "        \"environment\": {\n",
    "            \"KAFKA_NODE_ID\": 1,\n",
    "            \"KAFKA_CONTROLLER_LISTENER_NAMES\": \"CONTROLLER\",\n",
    "            \"KAFKA_LISTENER_SECURITY_PROTOCOL_MAP\": \"CONTROLLER:PLAINTEXT,INTERNAL:PLAINTEXT,EXTERNAL:PLAINTEXT\",\n",
    "            \"KAFKA_LISTENERS\": \"INTERNAL://:9092,CONTROLLER://:9093,EXTERNAL://:19092\",\n",
    "            \"KAFKA_ADVERTISED_LISTENERS\": \"INTERNAL://kafka1:9092,EXTERNAL://localhost:19092\",\n",
    "            \"KAFKA_INTER_BROKER_LISTENER_NAME\": \"INTERNAL\",\n",
    "            \"KAFKA_CONTROLLER_QUORUM_VOTERS\": \"1@kafka1:9093,2@kafka2:9093,3@kafka3:9093\",\n",
    "            \"KAFKA_PROCESS_ROLES\": \"broker,controller\",\n",
    "            \"KAFKA_GROUP_INITIAL_REBALANCE_DELAY_MS\": 0,\n",
    "            \"KAFKA_OFFSETS_TOPIC_REPLICATION_FACTOR\": 3,\n",
    "            \"KAFKA_TRANSACTION_STATE_LOG_REPLICATION_FACTOR\": 3,\n",
    "            \"CLUSTER_ID\": \"BDb4EWyiS1GjcEKCew2HvQ\",\n",
    "            \"KAFKA_LOG_DIRS\": \"/tmp/kraft-combined-logs\",\n",
    "        },\n",
    "    },\n",
    "    \"kafka2\": {\n",
    "        \"image\": \"confluentinc/cp-kafka\",\n",
    "        \"container_name\": \"kafka2\",\n",
    "        \"hostname\": \"kafka2\",\n",
    "        \"ports\": [\"19093:19093\"],\n",
    "        \"environment\": {\n",
    "            \"KAFKA_NODE_ID\": 2,\n",
    "            \"KAFKA_CONTROLLER_LISTENER_NAMES\": \"CONTROLLER\",\n",
    "            \"KAFKA_LISTENER_SECURITY_PROTOCOL_MAP\": \"CONTROLLER:PLAINTEXT,INTERNAL:PLAINTEXT,EXTERNAL:PLAINTEXT\",\n",
    "            \"KAFKA_LISTENERS\": \"INTERNAL://:9092,CONTROLLER://:9093,EXTERNAL://:19093\",\n",
    "            \"KAFKA_ADVERTISED_LISTENERS\": \"INTERNAL://kafka2:9092,EXTERNAL://localhost:19093\",\n",
    "            \"KAFKA_INTER_BROKER_LISTENER_NAME\": \"INTERNAL\",\n",
    "            \"KAFKA_CONTROLLER_QUORUM_VOTERS\": \"1@kafka1:9093,2@kafka2:9093,3@kafka3:9093\",\n",
    "            \"KAFKA_PROCESS_ROLES\": \"broker,controller\",\n",
    "            \"KAFKA_GROUP_INITIAL_REBALANCE_DELAY_MS\": 0,\n",
    "            \"KAFKA_OFFSETS_TOPIC_REPLICATION_FACTOR\": 3,\n",
    "            \"KAFKA_TRANSACTION_STATE_LOG_REPLICATION_FACTOR\": 3,\n",
    "            \"CLUSTER_ID\": \"BDb4EWyiS1GjcEKCew2HvQ\",\n",
    "            \"KAFKA_LOG_DIRS\": \"/tmp/kraft-combined-logs\",\n",
    "        },\n",
    "    },\n",
    "    \"kafka3\": {\n",
    "        \"image\": \"confluentinc/cp-kafka\",\n",
    "        \"container_name\": \"kafka3\",\n",
    "        \"hostname\": \"kafka3\",\n",
    "        \"ports\": [\"19094:19094\"],\n",
    "        \"environment\": {\n",
    "            \"KAFKA_NODE_ID\": 3,\n",
    "            \"KAFKA_CONTROLLER_LISTENER_NAMES\": \"CONTROLLER\",\n",
    "            \"KAFKA_LISTENER_SECURITY_PROTOCOL_MAP\": \"CONTROLLER:PLAINTEXT,INTERNAL:PLAINTEXT,EXTERNAL:PLAINTEXT\",\n",
    "            \"KAFKA_LISTENERS\": \"INTERNAL://:9092,CONTROLLER://:9093,EXTERNAL://:19094\",\n",
    "            \"KAFKA_ADVERTISED_LISTENERS\": \"INTERNAL://kafka3:9092,EXTERNAL://localhost:19094\",\n",
    "            \"KAFKA_INTER_BROKER_LISTENER_NAME\": \"INTERNAL\",\n",
    "            \"KAFKA_CONTROLLER_QUORUM_VOTERS\": \"1@kafka1:9093,2@kafka2:9093,3@kafka3:9093\",\n",
    "            \"KAFKA_PROCESS_ROLES\": \"broker,controller\",\n",
    "            \"KAFKA_GROUP_INITIAL_REBALANCE_DELAY_MS\": 0,\n",
    "            \"KAFKA_OFFSETS_TOPIC_REPLICATION_FACTOR\": 3,\n",
    "            \"KAFKA_TRANSACTION_STATE_LOG_REPLICATION_FACTOR\": 3,\n",
    "            \"CLUSTER_ID\": \"BDb4EWyiS1GjcEKCew2HvQ\",\n",
    "            \"KAFKA_LOG_DIRS\": \"/tmp/kraft-combined-logs\",\n",
    "        },\n",
    "    },\n",
    "    \"kafdrop\": {\n",
    "        \"image\": \"obsidiandynamics/kafdrop:latest\",\n",
    "        \"container_name\": \"kafdrop1\",\n",
    "        \"ports\": [\"9000:9000\"],\n",
    "        \"environment\": {\n",
    "            \"KAFKA_BROKERCONNECT\": \"kafka1:9092,kafka2:9092,kafka3:9092\",\n",
    "            \"SERVER_SERVLET_CONTEXTPATH\": \"/\",\n",
    "        },\n",
    "        \"depends_on\": [\"kafka1\", \"kafka2\", \"kafka3\"],\n",
    "    },\n",
    "}\n",
    "\n",
    "for i in range(1, num_buses + 1):\n",
    "    bus_id = f\"bus{i}\"\n",
    "    services[bus_id] = {\n",
    "        \"image\": \"smart_bus_image\",\n",
    "        \"environment\": {\"BUS_ID\": bus_id},\n",
    "        \"depends_on\": [\"kafka1\", \"kafka2\", \"kafka3\"],\n",
    "    }\n",
    "\n",
    "compose_file = {\"version\": \"3.8\", \"services\": services}\n",
    "\n",
    "current_dir = os.getcwd()\n",
    "\n",
    "output_file = os.path.join(current_dir, \"docker-compose.generated.yml\")\n",
    "with open(output_file, \"w\") as f:\n",
    "    yaml.dump(compose_file, f, sort_keys=False)"
   ]
  },
  {
   "cell_type": "code",
   "execution_count": 6,
   "metadata": {},
   "outputs": [
    {
     "data": {
      "text/plain": [
       "CompletedProcess(args=['docker', 'build', '--pull', '--rm', '-t', 'smart_bus_image', '.'], returncode=0)"
      ]
     },
     "execution_count": 6,
     "metadata": {},
     "output_type": "execute_result"
    }
   ],
   "source": [
    "subprocess.run([\"docker\", \"build\", \"--pull\", \"--rm\", \"-t\", \"smart_bus_image\", \".\"])"
   ]
  },
  {
   "cell_type": "code",
   "execution_count": 7,
   "metadata": {},
   "outputs": [
    {
     "data": {
      "text/plain": [
       "CompletedProcess(args=['docker-compose', '-f', 'c:\\\\Users\\\\super\\\\Documents\\\\github\\\\fs24-mc1-etiiiR\\\\Part2\\\\SmartCity\\\\Consumer Groups\\\\docker-compose.generated.yml', 'up', '-d'], returncode=0)"
      ]
     },
     "execution_count": 7,
     "metadata": {},
     "output_type": "execute_result"
    }
   ],
   "source": [
    "\n",
    "subprocess.run([\"docker-compose\", \"-f\", output_file, \"up\", \"-d\"])"
   ]
  }
 ],
 "metadata": {
  "kernelspec": {
   "display_name": "Python 3",
   "language": "python",
   "name": "python3"
  },
  "language_info": {
   "codemirror_mode": {
    "name": "ipython",
    "version": 3
   },
   "file_extension": ".py",
   "mimetype": "text/x-python",
   "name": "python",
   "nbconvert_exporter": "python",
   "pygments_lexer": "ipython3",
   "version": "3.11.8"
  }
 },
 "nbformat": 4,
 "nbformat_minor": 2
}
